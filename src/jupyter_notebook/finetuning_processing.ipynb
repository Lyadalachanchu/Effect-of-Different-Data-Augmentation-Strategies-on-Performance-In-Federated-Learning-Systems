{
 "cells": [
  {
   "cell_type": "code",
   "execution_count": 19,
   "metadata": {
    "collapsed": true
   },
   "outputs": [],
   "source": [
    "import numpy as np\n",
    "import pickle\n",
    "betas = [0.1, 0.3, 0.5, 10.0, 100.0]\n",
    "runs = [\"one\", \"two\", \"three\", \"four\", \"five\"]\n",
    "finetuned_f1_scores = np.zeros((len(runs), len(betas)))\n",
    "\n",
    "for r, run in enumerate(runs):\n",
    "    for b, beta in enumerate(betas):\n",
    "        path = f\"C:\\\\Users\\\\LohithSai\\\\Desktop\\\\FederatedImputation\\\\TheArchive\\\\pretrained\\\\run_{run}\\\\fedimputed_cvae_0_{beta}_mnist_exq_8_C[1.0]_iid[2]_E[1]_B[10].pkl\"\n",
    "        with open(path, 'rb') as f:\n",
    "            results_run_one = pickle.load(f)\n",
    "\n",
    "        finetuned_f1_scores[r][b] = results_run_one[3]\n"
   ]
  },
  {
   "cell_type": "code",
   "execution_count": 20,
   "outputs": [
    {
     "data": {
      "text/plain": "array([0.88934081, 0.92827925, 0.94673615, 0.95457896, 0.9512404 ])"
     },
     "execution_count": 20,
     "metadata": {},
     "output_type": "execute_result"
    }
   ],
   "source": [
    "finetuned_f1_scores.mean(axis=0)"
   ],
   "metadata": {
    "collapsed": false
   }
  },
  {
   "cell_type": "code",
   "execution_count": 21,
   "outputs": [
    {
     "data": {
      "text/plain": "array([0.01826846, 0.0043228 , 0.00205002, 0.00029932, 0.00067821])"
     },
     "execution_count": 21,
     "metadata": {},
     "output_type": "execute_result"
    }
   ],
   "source": [
    "finetuned_f1_scores.std(axis=0)"
   ],
   "metadata": {
    "collapsed": false
   }
  },
  {
   "cell_type": "code",
   "execution_count": null,
   "outputs": [],
   "source": [],
   "metadata": {
    "collapsed": false
   }
  }
 ],
 "metadata": {
  "kernelspec": {
   "display_name": "Python 3",
   "language": "python",
   "name": "python3"
  },
  "language_info": {
   "codemirror_mode": {
    "name": "ipython",
    "version": 2
   },
   "file_extension": ".py",
   "mimetype": "text/x-python",
   "name": "python",
   "nbconvert_exporter": "python",
   "pygments_lexer": "ipython2",
   "version": "2.7.6"
  }
 },
 "nbformat": 4,
 "nbformat_minor": 0
}
